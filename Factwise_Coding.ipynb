{
 "cells": [
  {
   "cell_type": "code",
   "execution_count": 4,
   "id": "ef5517a7-24e2-489a-860f-49e29dc98d25",
   "metadata": {},
   "outputs": [
    {
     "name": "stdin",
     "output_type": "stream",
     "text": [
      "Enter a number (1 to 1000):  115\n"
     ]
    },
    {
     "name": "stdout",
     "output_type": "stream",
     "text": [
      "Total letters used to spell out 115: 20\n"
     ]
    }
   ],
   "source": [
    "#First Coding Question Solution\n",
    "def number_to_words(num):\n",
    "    \"\"\" Convert a number (up to 1000) to words \"\"\"\n",
    "    units = [\"\", \"one\", \"two\", \"three\", \"four\", \"five\", \"six\", \"seven\", \"eight\", \"nine\"]\n",
    "    teens = [\"ten\", \"eleven\", \"twelve\", \"thirteen\", \"fourteen\", \"fifteen\", \n",
    "             \"sixteen\", \"seventeen\", \"eighteen\", \"nineteen\"]\n",
    "    tens = [\"\", \"\", \"twenty\", \"thirty\", \"forty\", \"fifty\", \"sixty\", \n",
    "            \"seventy\", \"eighty\", \"ninety\"]\n",
    "    \n",
    "    if num == 1000:\n",
    "        return \"one thousand\"\n",
    "    \n",
    "    words = \"\"\n",
    "    \n",
    "    if num >= 100:\n",
    "        hundreds_digit = num // 100\n",
    "        words += units[hundreds_digit] + \" hundred\"\n",
    "        num %= 100\n",
    "        if num > 0:\n",
    "            words += \" and \"\n",
    "    \n",
    "    if num >= 20:\n",
    "        tens_digit = num // 10\n",
    "        words += tens[tens_digit]\n",
    "        num %= 10\n",
    "        if num > 0:\n",
    "            words += \"-\"\n",
    "    \n",
    "    if 0 < num < 10:\n",
    "        words += units[num]\n",
    "    elif num >= 10:\n",
    "        words += teens[num - 10]\n",
    "    \n",
    "    return words\n",
    "\n",
    "def count_letters_in_number(num):\n",
    "    \"\"\" Count the total number of letters in the words representation of a number \"\"\"\n",
    "    words = number_to_words(num)\n",
    "    clean_words = words.replace(\" \", \"\").replace(\"-\", \"\")\n",
    "    return len(clean_words)\n",
    "\n",
    "\n",
    "if __name__ == \"__main__\":\n",
    "    try:\n",
    "        num = int(input(\"Enter a number (1 to 1000): \"))\n",
    "        if 1 <= num <= 1000:\n",
    "            total_letters = count_letters_in_number(num)\n",
    "            print(f\"Total letters used to spell out {num}: {total_letters}\")\n",
    "        else:\n",
    "            print(\"Number must be between 1 and 1000.\")\n",
    "    except ValueError:\n",
    "        print(\"Invalid input. Please enter a valid number.\")\n",
    "\n"
   ]
  },
  {
   "cell_type": "code",
   "execution_count": 8,
   "id": "3209f3c0-8d2f-45e2-838e-7a4298c9c2ea",
   "metadata": {},
   "outputs": [
    {
     "name": "stdin",
     "output_type": "stream",
     "text": [
      "Enter cardPoints separated by spaces:  1 2 3 4 5 6 1\n",
      "Enter k:  3\n"
     ]
    },
    {
     "name": "stdout",
     "output_type": "stream",
     "text": [
      "Maximum score: 12\n"
     ]
    }
   ],
   "source": [
    "#Second Coding Question Solution\n",
    "def maxScore(cardPoints, k):\n",
    "    n = len(cardPoints)\n",
    "    total_sum = sum(cardPoints)\n",
    "    window_size = n - k\n",
    "    \n",
    "    # Calculate sum of the first window of size n-k\n",
    "    window_sum = sum(cardPoints[:window_size])\n",
    "    min_window_sum = window_sum\n",
    "    \n",
    "    # Slide the window across the array\n",
    "    for i in range(1, n - window_size + 1):\n",
    "        window_sum = window_sum - cardPoints[i - 1] + cardPoints[i + window_size - 1]\n",
    "        min_window_sum = min(min_window_sum, window_sum)\n",
    "    \n",
    "    # Maximum score is total sum minus the minimum window sum\n",
    "    return total_sum - min_window_sum\n",
    "\n",
    "# Function to take input from user\n",
    "def take_input_from_user():\n",
    "    cardPoints = list(map(int, input(\"Enter cardPoints separated by spaces: \").split()))\n",
    "    k = int(input(\"Enter k: \"))\n",
    "    return cardPoints, k\n",
    "\n",
    "# Main function\n",
    "if __name__ == \"__main__\":\n",
    "    cardPoints, k = take_input_from_user()\n",
    "    max_score = maxScore(cardPoints, k)\n",
    "    print(f\"Maximum score: {max_score}\")\n",
    "\n",
    "\n",
    "\n"
   ]
  }
 ],
 "metadata": {
  "kernelspec": {
   "display_name": "Python 3 (ipykernel)",
   "language": "python",
   "name": "python3"
  },
  "language_info": {
   "codemirror_mode": {
    "name": "ipython",
    "version": 3
   },
   "file_extension": ".py",
   "mimetype": "text/x-python",
   "name": "python",
   "nbconvert_exporter": "python",
   "pygments_lexer": "ipython3",
   "version": "3.12.0"
  }
 },
 "nbformat": 4,
 "nbformat_minor": 5
}
